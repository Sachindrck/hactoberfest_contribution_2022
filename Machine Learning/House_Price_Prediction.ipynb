{
  "nbformat": 4,
  "nbformat_minor": 0,
  "metadata": {
    "colab": {
      "provenance": []
    },
    "kernelspec": {
      "name": "python3",
      "display_name": "Python 3"
    },
    "language_info": {
      "name": "python"
    }
  },
  "cells": [
    {
      "cell_type": "code",
      "execution_count": null,
      "metadata": {
        "id": "jYHzFGE58UC9"
      },
      "outputs": [],
      "source": [
        "import numpy as np\n",
        "import pandas as pd\n",
        "import sklearn\n",
        "from math import sqrt"
      ]
    },
    {
      "cell_type": "code",
      "source": [
        "from sklearn.datasets import load_boston\n",
        "var = load_boston()"
      ],
      "metadata": {
        "id": "PwLtJt_E8x09"
      },
      "execution_count": null,
      "outputs": []
    },
    {
      "cell_type": "code",
      "source": [
        "print(var.keys())\n",
        "var.DESCR"
      ],
      "metadata": {
        "id": "ztPaWWTl848h"
      },
      "execution_count": null,
      "outputs": []
    },
    {
      "cell_type": "code",
      "source": [
        "df = pd.DataFrame(var.data, columns = var.feature_names)\n",
        "df"
      ],
      "metadata": {
        "id": "AOO4vDl28_ai"
      },
      "execution_count": null,
      "outputs": []
    },
    {
      "cell_type": "code",
      "source": [
        "df.describe()"
      ],
      "metadata": {
        "id": "ySWouAcS9_9Z"
      },
      "execution_count": null,
      "outputs": []
    },
    {
      "cell_type": "code",
      "source": [
        "df['MEDV'] = var.target"
      ],
      "metadata": {
        "id": "0jHYN3wS-Lic"
      },
      "execution_count": null,
      "outputs": []
    },
    {
      "cell_type": "code",
      "source": [
        "df"
      ],
      "metadata": {
        "id": "hC5NqS_S-X2J"
      },
      "execution_count": null,
      "outputs": []
    },
    {
      "cell_type": "code",
      "source": [
        "df.isnull().sum()"
      ],
      "metadata": {
        "id": "mLGXD2Qi-ZaD"
      },
      "execution_count": null,
      "outputs": []
    },
    {
      "cell_type": "code",
      "source": [
        "# Boxplot using seaborn\n",
        "import matplotlib.pyplot as plt\n",
        "import seaborn as sns\n",
        "\n",
        "%matplotlib inline\n",
        "\n",
        "plt.figure(figsize = (16, 10))\n",
        "bp = sns.boxplot(data = df, width = 0.5, saturation = 1, linewidth = 2)\n",
        "bp"
      ],
      "metadata": {
        "id": "bxbkxp8c-u_B"
      },
      "execution_count": null,
      "outputs": []
    },
    {
      "cell_type": "code",
      "source": [
        "# Heatmap using seaborn\n",
        "import matplotlib.pyplot as plt\n",
        "import seaborn as sns\n",
        "\n",
        "%matplotlib inline\n",
        "\n",
        "plt.figure(figsize = (16, 10))\n",
        "sns.heatmap(df.corr(), cmap = 'Blues', annot = True, linewidth = 0.5)\n",
        "plt.show()"
      ],
      "metadata": {
        "id": "QvCLjGylAYzj"
      },
      "execution_count": null,
      "outputs": []
    },
    {
      "cell_type": "code",
      "source": [
        "# KDE plot using seaborn\n",
        "import matplotlib.pyplot as plt\n",
        "import seaborn as sns\n",
        "\n",
        "%matplotlib inline\n",
        "\n",
        "plt.figure(figsize = (16, 5))\n",
        "sns.kdeplot(data = df['TAX'])\n",
        "sns.kdeplot(data = df['AGE'])\n",
        "sns.kdeplot(data = df['MEDV'])\n",
        "plt.show()"
      ],
      "metadata": {
        "id": "SfJznM0gBsvD"
      },
      "execution_count": null,
      "outputs": []
    },
    {
      "cell_type": "code",
      "source": [
        "# Data normalization (z-score)\n",
        "\n",
        "dfZ = df.copy()\n",
        "\n",
        "for col in dfZ.columns:\n",
        "  dfZ[col] = ((dfZ[col] - dfZ[col].mean()) / dfZ[col].std())\n",
        "\n",
        "dfZ"
      ],
      "metadata": {
        "id": "CqIK5NvNF1ff"
      },
      "execution_count": null,
      "outputs": []
    },
    {
      "cell_type": "code",
      "source": [
        "# Data normalization (min-max)\n",
        "\n",
        "dfmin_max = df.copy()\n",
        "\n",
        "for col in dfmin_max.columns:\n",
        "  dfmin_max[col] = ((dfmin_max[col] - dfmin_max[col].min()) / (dfmin_max[col].max() - dfmin_max[col].min()))\n",
        "dfmin_max"
      ],
      "metadata": {
        "id": "C2zky4cOJZtm"
      },
      "execution_count": null,
      "outputs": []
    },
    {
      "cell_type": "code",
      "source": [
        "# bar graph on normalized data\n",
        "\n",
        "import matplotlib.pyplot as plt\n",
        "import seaborn as sns\n",
        "\n",
        "%matplotlib inline\n",
        "\n",
        "plt.figure(figsize = (16, 5))\n",
        "\n",
        "sns.barplot(data = dfmin_max)\n",
        "#sns.barplot(data = dfZ)\n",
        "#sns.barplot(data = df)\n",
        "plt.show()"
      ],
      "metadata": {
        "id": "HOWtG6qVLprC"
      },
      "execution_count": null,
      "outputs": []
    },
    {
      "cell_type": "code",
      "source": [
        "# Heatmap on normalized data\n",
        "import matplotlib.pyplot as plt\n",
        "import seaborn as sns\n",
        "\n",
        "%matplotlib inline\n",
        "\n",
        "plt.figure(figsize = (16, 10))\n",
        "sns.heatmap(dfmin_max.corr(), cmap = 'Blues', annot = True, linewidth = 0.5)\n",
        "plt.show()"
      ],
      "metadata": {
        "id": "4UofRdN-Mt38"
      },
      "execution_count": null,
      "outputs": []
    },
    {
      "cell_type": "code",
      "source": [
        "# linear regression on dataframe\n",
        "\n",
        "from sklearn.model_selection import train_test_split\n",
        "from sklearn.linear_model import LinearRegression\n",
        "from sklearn.metrics import mean_absolute_error\n",
        "from sklearn.metrics import mean_squared_error\n",
        "from sklearn.metrics import r2_score\n",
        "\n",
        "\n",
        "x = df[['NOX', 'RM', 'DIS', 'AGE', 'TAX', 'PTRATIO', 'LSTAT']]\n",
        "y = df['MEDV']\n",
        "xTrain, xTest, yTrain, yTest = train_test_split(x, y, test_size = 0.33, random_state = 5)\n",
        "\n",
        "model = LinearRegression()\n",
        "model.fit(xTrain, yTrain)\n",
        "yPred = model.predict(xTest)\n",
        "pred = pd.DataFrame({'actual': yTest, 'predicted': yPred})\n",
        "print(pred)\n",
        "\n",
        "print(\"mean absolute error: \", mean_absolute_error(yTest, yPred))\n",
        "print(\"mean squared error: \", mean_squared_error(yTest, yPred))\n",
        "print(\"RMS: \", sqrt(mean_squared_error(yTest, yPred)))\n",
        "print(\"R2 score: \", r2_score(yTest, yPred))"
      ],
      "metadata": {
        "id": "wdsJbd-vOJMO"
      },
      "execution_count": null,
      "outputs": []
    },
    {
      "cell_type": "code",
      "source": [
        "# SVM Regressor on normalized data\n",
        "\n",
        "from sklearn.model_selection import train_test_split\n",
        "from sklearn.svm import SVR\n",
        "from sklearn.metrics import mean_absolute_error\n",
        "from sklearn.metrics import mean_squared_error\n",
        "from sklearn.metrics import r2_score\n",
        "\n",
        "\n",
        "xNorm1 = dfmin_max[['NOX', 'RM', 'DIS', 'AGE', 'TAX', 'PTRATIO', 'LSTAT']]\n",
        "yNorm1 = dfmin_max['MEDV']\n",
        "xTrainNorm1, xTestNorm1, yTrainNorm1, yTestNorm1 = train_test_split(xNorm1, yNorm1, test_size = 0.33, random_state = 5)\n",
        "\n",
        "model = SVR()\n",
        "model.fit(xTrainNorm1, yTrainNorm1)\n",
        "yPredNorm1 = model.predict(xTestNorm1)\n",
        "predNorm1 = pd.DataFrame({'actual': yTestNorm1, 'predicted': yPredNorm1})\n",
        "print(predNorm1)\n",
        "\n",
        "print(\"mean absolute error: \", mean_absolute_error(yTestNorm1, yPredNorm1))\n",
        "print(\"mean squared error: \", mean_squared_error(yTestNorm1, yPredNorm1))\n",
        "print(\"RMS: \", sqrt(mean_squared_error(yTestNorm1, yPredNorm1)))\n",
        "print(\"R2 score: \", r2_score(yTestNorm1, yPredNorm1))"
      ],
      "metadata": {
        "id": "fyxvOX0DUaO7"
      },
      "execution_count": null,
      "outputs": []
    },
    {
      "cell_type": "code",
      "source": [
        "# Random Forest Regressor on normalized data\n",
        "\n",
        "from sklearn.model_selection import train_test_split\n",
        "from sklearn.ensemble import RandomForestRegressor\n",
        "from sklearn.metrics import mean_absolute_error\n",
        "from sklearn.metrics import mean_squared_error\n",
        "from sklearn.metrics import r2_score\n",
        "\n",
        "\n",
        "xNorm2 = dfmin_max[['NOX', 'RM', 'DIS', 'AGE', 'TAX', 'PTRATIO', 'LSTAT']]\n",
        "yNorm2 = dfmin_max['MEDV']\n",
        "xTrainNorm2, xTestNorm2, yTrainNorm2, yTestNorm2 = train_test_split(xNorm2, yNorm2, test_size = 0.33, random_state = 5)\n",
        "\n",
        "model = RandomForestRegressor()\n",
        "model.fit(xTrainNorm2, yTrainNorm2)\n",
        "yPredNorm2 = model.predict(xTestNorm2)\n",
        "predNorm2 = pd.DataFrame({'actual': yTestNorm2, 'predicted': yPredNorm2})\n",
        "print(predNorm2)\n",
        "\n",
        "print(\"mean absolute error: \", mean_absolute_error(yTestNorm2, yPredNorm2))\n",
        "print(\"mean squared error: \", mean_squared_error(yTestNorm2, yPredNorm2))\n",
        "print(\"RMS: \", sqrt(mean_squared_error(yTestNorm2, yPredNorm2)))\n",
        "print(\"R2 score: \", r2_score(yTestNorm2, yPredNorm2))\n",
        "\n",
        "# Gives Highest R2 Score (hence best model)"
      ],
      "metadata": {
        "id": "on-U1vJPXyy4"
      },
      "execution_count": null,
      "outputs": []
    },
    {
      "cell_type": "code",
      "source": [
        "# plotting values on data (linear regression)\n",
        "\n",
        "x1 = np.array(xTest['NOX'])\n",
        "y1 = np.array(yPred)\n",
        "m, b = np.polyfit(x = x1, y = y1, deg = 1)\n",
        "print(\"m: \", m)\n",
        "print(\"b: \", b)\n",
        "\n",
        "plt.figure(figsize = (16, 10))\n",
        "plt.plot(xTest['NOX'], m * xTest['NOX'] + b)\n",
        "plt.plot(xTest['NOX'], yPred, 'o')\n",
        "plt.xlabel(\"NOX\")\n",
        "plt.ylabel(\"Median Value\")"
      ],
      "metadata": {
        "id": "oqVwgIGUYuqX"
      },
      "execution_count": null,
      "outputs": []
    },
    {
      "cell_type": "code",
      "source": [
        "# plotting values on normalized data (SVM regression)\n",
        "\n",
        "x1Norm1 = np.array(xTestNorm1['NOX'])\n",
        "y1Norm1 = np.array(yPredNorm1)\n",
        "m, b = np.polyfit(x = x1Norm1, y = y1Norm1, deg = 1)\n",
        "print(\"m: \", m)\n",
        "print(\"b: \", b)\n",
        "\n",
        "plt.figure(figsize = (16, 10))\n",
        "plt.plot(xTestNorm1['NOX'], m * xTestNorm1['NOX'] + b)\n",
        "plt.plot(xTestNorm1['NOX'], yPredNorm1, 'o')\n",
        "plt.xlabel(\"NOX\")\n",
        "plt.ylabel(\"Median Value\")"
      ],
      "metadata": {
        "id": "C2oXeAEsZWol"
      },
      "execution_count": null,
      "outputs": []
    },
    {
      "cell_type": "code",
      "source": [
        "# plotting values on normalized data (Random Forest regression)\n",
        "\n",
        "x1Norm2 = np.array(xTestNorm2['NOX'])\n",
        "y1Norm2 = np.array(yPredNorm2)\n",
        "m, b = np.polyfit(x = x1Norm2, y = y1Norm2, deg = 1)\n",
        "print(\"m: \", m)\n",
        "print(\"b: \", b)\n",
        "\n",
        "plt.figure(figsize = (16, 10))\n",
        "plt.plot(xTestNorm2['NOX'], m * xTestNorm2['NOX'] + b)\n",
        "plt.plot(xTestNorm2['NOX'], yPredNorm2, 'o')\n",
        "plt.xlabel(\"NOX\")\n",
        "plt.ylabel(\"Median Value\")"
      ],
      "metadata": {
        "id": "UI51lH2tcPZi"
      },
      "execution_count": null,
      "outputs": []
    },
    {
      "cell_type": "code",
      "source": [
        "sns.pairplot(df, x_vars = ['NOX', 'RM', 'DIS', 'AGE', 'TAX', 'PTRATIO', 'LSTAT'], \n",
        "             y_vars = 'MEDV', height = 9, aspect = 0.6, kind = 'reg')"
      ],
      "metadata": {
        "id": "UYUrPZhScchF"
      },
      "execution_count": null,
      "outputs": []
    }
  ]
}