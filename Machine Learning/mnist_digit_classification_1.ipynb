{
  "nbformat": 4,
  "nbformat_minor": 0,
  "metadata": {
    "colab": {
      "provenance": []
    },
    "kernelspec": {
      "name": "python3",
      "display_name": "Python 3"
    },
    "language_info": {
      "name": "python"
    }
  },
  "cells": [
    {
      "cell_type": "code",
      "execution_count": null,
      "metadata": {
        "id": "JcnItUAkjUyd"
      },
      "outputs": [],
      "source": [
        "import pandas as pd\n",
        "import numpy as np"
      ]
    },
    {
      "cell_type": "code",
      "source": [
        "import keras\n",
        "from keras.datasets import mnist"
      ],
      "metadata": {
        "id": "JQ0KSXF0jjqH"
      },
      "execution_count": null,
      "outputs": []
    },
    {
      "cell_type": "code",
      "source": [
        "(X_train, y_train), (X_test, y_test) = mnist.load_data()\n",
        "X_train.shape, y_train.shape, X_test.shape, y_test.shape"
      ],
      "metadata": {
        "id": "8CBMAI3Ijr4B"
      },
      "execution_count": null,
      "outputs": []
    },
    {
      "cell_type": "code",
      "source": [
        "import matplotlib.pyplot as plt\n",
        "\n",
        "def plot_ip_img(i):\n",
        "  plt.imshow(X_train[i], cmap = 'binary')\n",
        "  plt.title(y_train[i])\n",
        "  plt.show()\n",
        "\n",
        "for i in range(0, 11):\n",
        "  plot_ip_img(i)"
      ],
      "metadata": {
        "id": "k0x0H0vnjtX5"
      },
      "execution_count": null,
      "outputs": []
    },
    {
      "cell_type": "code",
      "source": [
        "X_train = X_train.astype(np.float32) / 255\n",
        "X_test = X_test.astype(np.float32) / 255\n",
        "\n",
        "X_train = np.expand_dims(X_train, -1)\n",
        "X_test = np.expand_dims(X_test, -1)"
      ],
      "metadata": {
        "id": "R2ia4DpvoUzc"
      },
      "execution_count": null,
      "outputs": []
    },
    {
      "cell_type": "code",
      "source": [
        "from keras.utils import np_utils\n",
        "\n",
        "\n",
        "y_train = keras.utils.np_utils.to_categorical(y_train)\n",
        "y_test = keras.utils.np_utils.to_categorical(y_test)"
      ],
      "metadata": {
        "id": "nWQTpCvfppbm"
      },
      "execution_count": null,
      "outputs": []
    },
    {
      "cell_type": "code",
      "source": [
        "from keras.models import Sequential\n",
        "from keras.layers import MaxPool2D, Dense, Conv2D, Flatten, Dropout\n",
        "\n",
        "model = Sequential()\n",
        "model.add(Conv2D(32, (3, 3), input_shape = (28, 28, 1), activation = 'relu'))\n",
        "model.add(MaxPool2D(2, 2))\n",
        "model.add(Conv2D(64, (3, 3), activation = 'relu'))\n",
        "model.add(MaxPool2D(2, 2))\n",
        "model.add(Flatten())\n",
        "model.add(Dropout(0.25))\n",
        "model.add(Dense(10, activation = 'softmax'))\n",
        "\n",
        "model.summary()"
      ],
      "metadata": {
        "id": "RXQo4MgWsiwz"
      },
      "execution_count": null,
      "outputs": []
    },
    {
      "cell_type": "code",
      "source": [
        "from keras.losses import categorical_crossentropy\n",
        "\n",
        "model.compile(optimizer = 'adam', loss = categorical_crossentropy, metrics = ['accuracy'])"
      ],
      "metadata": {
        "id": "JlE4tNHZvfCy"
      },
      "execution_count": null,
      "outputs": []
    },
    {
      "cell_type": "code",
      "source": [
        "from keras.callbacks import EarlyStopping\n",
        "\n",
        "es = EarlyStopping(monitor = 'val_acc', min_delta = 0.01, patience = 4, verbose = 1)\n",
        "cb = [es]"
      ],
      "metadata": {
        "id": "XzF_dhtywC3V"
      },
      "execution_count": null,
      "outputs": []
    },
    {
      "cell_type": "code",
      "source": [
        "his = model.fit(X_train, y_train, epochs = 5, validation_split = 0.3)"
      ],
      "metadata": {
        "id": "Hop_3CUeyJU_"
      },
      "execution_count": null,
      "outputs": []
    },
    {
      "cell_type": "code",
      "source": [
        "score = model.evaluate(X_test, y_test)\n",
        "print(\"model score is: \", score[1])"
      ],
      "metadata": {
        "id": "50jUtNdFzOEw"
      },
      "execution_count": null,
      "outputs": []
    }
  ]
}